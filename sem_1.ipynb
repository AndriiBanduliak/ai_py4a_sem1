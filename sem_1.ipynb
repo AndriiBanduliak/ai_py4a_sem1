{
  "nbformat": 4,
  "nbformat_minor": 0,
  "metadata": {
    "colab": {
      "provenance": []
    },
    "kernelspec": {
      "name": "python3",
      "display_name": "Python 3"
    },
    "language_info": {
      "name": "python"
    }
  },
  "cells": [
    {
      "cell_type": "markdown",
      "source": [
        "# 1\n",
        "Напишите функцию, которая из двух списков, делает один словарь, где элементы из первого списка - ключи, а элементы из второго списка - значения\n",
        "\n",
        "\n",
        "Используйте аннотирование типов\n",
        "\n",
        "*  Используя цикл for"
      ],
      "metadata": {
        "id": "dp77Ld54Z76l"
      }
    },
    {
      "cell_type": "code",
      "source": [
        "from typing import List, Dict\n",
        "\n",
        "\n",
        "keys = ['One', 'Two', 'Three']\n",
        "values = [1, 2, 3]"
      ],
      "metadata": {
        "id": "-oWcQOK1aTOM"
      },
      "execution_count": null,
      "outputs": []
    },
    {
      "cell_type": "code",
      "execution_count": null,
      "metadata": {
        "id": "WenYrBIkZ4j_"
      },
      "outputs": [],
      "source": [
        "def list_to_dict(keys: list[str], values: list) -> dict:\n",
        "    result = {}\n",
        "    for i in range(len(keys)):\n",
        "        result[keys[i]] = values[i]\n",
        "    return result\n"
      ]
    },
    {
      "cell_type": "markdown",
      "source": [
        "# 2\n",
        "В фермерском хозяйстве в Карелии выращивают чернику. Она растет на круглой грядке, причем кусты высажены только по окружности. Таким образом, у каждого куста есть ровно два соседних. Всего на грядке растет N кустов.\n",
        "Эти кусты обладают разной урожайностью, поэтому ко времени сбора на них выросло различное число ягод – на i-ом кусте выросло ai ягод.\n",
        "В этом фермерском хозяйстве внедрена система автоматического сбора черники. Эта система состоит из управляющего модуля и нескольких собирающих модулей. Собирающий модуль за один заход, находясь непосредственно перед некоторым кустом, собирает ягоды с этого куста и с двух соседних с ним.\n",
        "Напишите программу для нахождения максимального числа ягод, которое может собрать за один заход собирающий модуль, находясь перед некоторым кустом заданной во входном файле грядки."
      ],
      "metadata": {
        "id": "8VkSO32MaMqb"
      }
    },
    {
      "cell_type": "code",
      "source": [
        "n = int(input())\n",
        "a = list(map(int, input().split()))\n",
        "\n",
        "dp = [[0, 0] for i in range(n)]  # массив для хранения значений dp[i][0] и dp[i][1]\n",
        "\n",
        "dp[0][0] = dp[0][1] = a[0]  # базовый случай\n",
        "\n",
        "for i in range(1, n):\n",
        "    dp[i][0] = a[i] + dp[i-1][1] - a[i-1]\n",
        "    dp[i][1] = a[i] + dp[i-1][0] - a[i-2]\n",
        "\n",
        "print(max(dp[n-1][0], dp[n-1][1]))  # выводим максимальное значение из dp[n-1][0] и dp[n-1][1]\n"
      ],
      "metadata": {
        "id": "Dy-nO3rDaaXX",
        "colab": {
          "base_uri": "https://localhost:8080/"
        },
        "outputId": "387772d8-d8f2-4218-9de6-41a37865ef34"
      },
      "execution_count": 21,
      "outputs": [
        {
          "output_type": "stream",
          "name": "stdout",
          "text": [
            "4\n",
            "5 4 3 29\n",
            "28\n"
          ]
        }
      ]
    },
    {
      "cell_type": "code",
      "source": [
        "n = int(input())\n",
        "a = list(map(int, input().split()))\n",
        "\n",
        "dp = [0] * n\n",
        "dp[0] = a[0]\n",
        "dp[1] = max(a[0], a[1])\n",
        "\n",
        "for i in range(2, n):\n",
        "    dp[i] = max(dp[i-1], dp[i-2] + a[i])\n",
        "    #print(dp[i])\n",
        "\n",
        "print(dp[n-1])\n"
      ],
      "metadata": {
        "colab": {
          "base_uri": "https://localhost:8080/"
        },
        "id": "3DJglbCJj7H3",
        "outputId": "00299d63-08cd-4443-9f21-ef01a0b07159"
      },
      "execution_count": 20,
      "outputs": [
        {
          "output_type": "stream",
          "name": "stdout",
          "text": [
            "4\n",
            "5 4 3 29\n",
            "34\n"
          ]
        }
      ]
    }
  ]
}